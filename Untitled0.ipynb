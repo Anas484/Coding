{
  "nbformat": 4,
  "nbformat_minor": 0,
  "metadata": {
    "colab": {
      "name": "Untitled0.ipynb",
      "provenance": [],
      "collapsed_sections": []
    },
    "kernelspec": {
      "name": "python3",
      "display_name": "Python 3"
    }
  },
  "cells": [
    {
      "cell_type": "code",
      "metadata": {
        "id": "Edfef4o2fwAs"
      },
      "source": [
        "#area of squuare"
      ],
      "execution_count": null,
      "outputs": []
    },
    {
      "cell_type": "markdown",
      "metadata": {
        "id": "oowHMfnGhsK_"
      },
      "source": [
        "In geometry, a square is a regular quadrilateral, which means that it has four equal sides and four equal angles. It can also be defined as a rectangle in which two adjacent sides have equal length\n",
        "\n",
        "![image.png](data:image/png;base64,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)"
      ]
    },
    {
      "cell_type": "code",
      "metadata": {
        "id": "V92OxYeRh3Cs"
      },
      "source": [
        "def AreaofSquare():\n",
        "  a = int(input(\"enter the legnth of a side of square: \"))\n",
        "  Area = a**2 \n",
        "  print(\"Area of square is\", Area )"
      ],
      "execution_count": null,
      "outputs": []
    },
    {
      "cell_type": "code",
      "metadata": {
        "id": "3nkZmdBqikEn",
        "colab": {
          "base_uri": "https://localhost:8080/",
          "height": 50
        },
        "outputId": "78f7d2de-f2f6-4f99-cbde-6785cd39d910"
      },
      "source": [
        "AreaofSquare()"
      ],
      "execution_count": null,
      "outputs": [
        {
          "output_type": "stream",
          "text": [
            "enter the legnth of a side of square: 5\n",
            "Area of square is 25\n"
          ],
          "name": "stdout"
        }
      ]
    },
    {
      "cell_type": "code",
      "metadata": {
        "id": "d4I8brLbiwEE"
      },
      "source": [
        "#area of cube\n"
      ],
      "execution_count": null,
      "outputs": []
    },
    {
      "cell_type": "markdown",
      "metadata": {
        "id": "n1t41GBUi0o8"
      },
      "source": [
        "In geometry, a cube is a three-dimensional solid object bounded by six square faces, facets or sides, with three meeting at each vertex. The cube is the only regular hexahedron and is one of the five Platonic solids. It has 6 faces, 12 edges, and 8 vertices\n",
        "\n",
        "![image.png](data:image/png;base64,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)"
      ]
    },
    {
      "cell_type": "code",
      "metadata": {
        "id": "dhQU7DBsjElE"
      },
      "source": [
        "def areaofcube():\n",
        "  a = int(input(\"enter the size of a face of cube: \"))\n",
        "  Area = 6*a**2\n",
        "  print(\"Area of cube is\" , Area)"
      ],
      "execution_count": null,
      "outputs": []
    },
    {
      "cell_type": "code",
      "metadata": {
        "id": "81wY33Chj7U7",
        "colab": {
          "base_uri": "https://localhost:8080/",
          "height": 50
        },
        "outputId": "d2926883-a2f9-4427-d083-b4f239e4fa40"
      },
      "source": [
        "areaofcube()"
      ],
      "execution_count": null,
      "outputs": [
        {
          "output_type": "stream",
          "text": [
            "enter the size of a face of cube: 2\n",
            "Area of cube is 24\n"
          ],
          "name": "stdout"
        }
      ]
    },
    {
      "cell_type": "code",
      "metadata": {
        "id": "t6VaDhq8kGo8"
      },
      "source": [
        "#area of rhombus"
      ],
      "execution_count": null,
      "outputs": []
    },
    {
      "cell_type": "markdown",
      "metadata": {
        "id": "QClxzrcFkLUh"
      },
      "source": [
        "In plane Euclidean geometry, a rhombus is a quadrilateral whose four sides all have the same length. Another name is equilateral quadrilateral, since equilateral means that all of its sides are equal in length.\n",
        "\n",
        "![image.png](data:image/png;base64,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)"
      ]
    },
    {
      "cell_type": "code",
      "metadata": {
        "id": "YEG7u-FDkX8j"
      },
      "source": [
        "def areaofrhombus():\n",
        "  p = int(input(\"eneter the lenght of diagonal p: \" ))\n",
        "  q = int(input(\"eneter the lenght of diagonal q: \" ))\n",
        "  Area = p*q/2\n",
        "\n",
        "  print(\"Area of rhombus is\", Area )\n"
      ],
      "execution_count": null,
      "outputs": []
    },
    {
      "cell_type": "code",
      "metadata": {
        "id": "m49_Qb4XlOr7",
        "colab": {
          "base_uri": "https://localhost:8080/",
          "height": 67
        },
        "outputId": "18295da8-1c23-4db8-fa6d-938c21550dff"
      },
      "source": [
        "areaofrhombus()"
      ],
      "execution_count": null,
      "outputs": [
        {
          "output_type": "stream",
          "text": [
            "eneter the lenght of diagonal p: 4\n",
            "eneter the lenght of diagonal q: 2\n",
            "Area of rhombus is 4.0\n"
          ],
          "name": "stdout"
        }
      ]
    },
    {
      "cell_type": "code",
      "metadata": {
        "id": "Ld1-NWuklmT1"
      },
      "source": [
        "#Area of parallelogram\n"
      ],
      "execution_count": null,
      "outputs": []
    },
    {
      "cell_type": "markdown",
      "metadata": {
        "id": "w65a7jmqlqdj"
      },
      "source": [
        "n Euclidean geometry, a parallelogram is a simple quadrilateral with two pairs of parallel sides. The opposite or facing sides of a parallelogram are of equal length and the opposite angles of a parallelogram are of equal measure\n",
        "\n",
        "![image.png](data:image/png;base64,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)"
      ]
    },
    {
      "cell_type": "code",
      "metadata": {
        "id": "gw6h6NIDl4hD"
      },
      "source": [
        "def areaofparallelogram():\n",
        "  b = int(input(\"enter the lenght of base of parallelogram: \"))\n",
        "  h = int(input(\"enter the hieght of parallelogram: \"))\n",
        "  Area = b*h \n",
        "  print(\"Area of parallelogram is\" , Area)"
      ],
      "execution_count": null,
      "outputs": []
    },
    {
      "cell_type": "code",
      "metadata": {
        "id": "vMWccdp6mmhV",
        "colab": {
          "base_uri": "https://localhost:8080/",
          "height": 67
        },
        "outputId": "88c4d7eb-0a67-43f0-bebb-800c7a7c7ad1"
      },
      "source": [
        "areaofparallelogram()"
      ],
      "execution_count": null,
      "outputs": [
        {
          "output_type": "stream",
          "text": [
            "enter the lenght of base of parallelogram: 2\n",
            "enter the hieght of parallelogram: 5\n",
            "Area of parallelogram is 10\n"
          ],
          "name": "stdout"
        }
      ]
    },
    {
      "cell_type": "code",
      "metadata": {
        "id": "1oxZU7LOmzQO"
      },
      "source": [
        "#area of cylinder"
      ],
      "execution_count": null,
      "outputs": []
    },
    {
      "cell_type": "markdown",
      "metadata": {
        "id": "Tb0R1Pv9m5Hh"
      },
      "source": [
        "A cylinder is one of the most basic curved geometric shapes, with the surface formed by the points at a fixed distance from a given line segment, known as the axis of the cylinder. The shape can be thought of as a circular prism. Both the surface and the solid shape created inside can be called a cylinder.\n",
        "\n",
        "![image.png](data:image/png;base64,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)"
      ]
    },
    {
      "cell_type": "code",
      "metadata": {
        "id": "yrps4tdunF1g"
      },
      "source": [
        "def areaofcylinder():\n",
        "  pi=22/7\n",
        "  r = float(input(\"enter radius of cylinder: \"))\n",
        "  h = float(input(\"enter the hieght of cylinder: \"))\n",
        "  Area = ((2*pi*r)*h)+((pi*r**2)*2)\n",
        "  print(\"Area of cylinder is\" , Area)"
      ],
      "execution_count": null,
      "outputs": []
    },
    {
      "cell_type": "code",
      "metadata": {
        "id": "3veE1XF_pQqi",
        "colab": {
          "base_uri": "https://localhost:8080/",
          "height": 67
        },
        "outputId": "5ab19f88-fc83-43cc-af0e-f6ae865e3df3"
      },
      "source": [
        "areaofcylinder()"
      ],
      "execution_count": null,
      "outputs": [
        {
          "output_type": "stream",
          "text": [
            "enter radius of cylinder: 5\n",
            "enter the hieght of cylinder: 2\n",
            "Area of cylinder is 220.0\n"
          ],
          "name": "stdout"
        }
      ]
    },
    {
      "cell_type": "code",
      "metadata": {
        "id": "cOvpqouopdaE"
      },
      "source": [
        "#area of trapezium"
      ],
      "execution_count": null,
      "outputs": []
    },
    {
      "cell_type": "markdown",
      "metadata": {
        "id": "MJYml4sqpgXT"
      },
      "source": [
        "A trapezium is a 2d shape and a type of quadrilateral, which has only two parallel sides and the other two sides are non-parallel. In Euclidean Geometry, a quadrilateral is defined as a polygon with four sides and four vertices.\n",
        "![image.png](data:image/png;base64,iVBORw0KGgoAAAANSUhEUgAAASUAAACsCAYAAAA9r7rTAAAQ90lEQVR4Ae2dq1MkPxeG9z9AYFAIDAKJQuHQW4VbCWbtOhwGh8GgMEjcT2IwGBxVqK1aicBhUCv7q3f2O0Mz176c3LqfVE0x9Eynk+ek38nJSdLfKhIEIACBjAh8y6gsFAUCEIBAhSgNqBE8PDxUNzc31fPzc/X79+8B1YyqjIkAojQAa7+/v1c7OzsTMfr4+Kg2Nzer//77bwA1owpjJIAoDcDqGxsb1cvLy7Qm3759q15fX6f/8wYCJRFAlEqy1oKyylWTCFlST0n///371w7xtwEBifrFxcXkdX5+Pvn7+PjY4Ey+4k3gszV757wkP/2Cv729TV56r5duJFI3Are3t9Xx8fH05FmRmn7Am6UETk9Pqx8/fnxph2qXe3t7S8/hg3AEoouSBmD1S65GcHd3V11fX09uKh3TQC2pHQEx3Nramp6kG+zXr1/T/3mzmoD41Xua9W/rM1J8AtFFSVXUoKx+4evJfuHv7+/rh3m/hoDcNN1U29vb1dnZWfX9+/fq6OgI920NN/t4f3+/ury8tH/5mwGBbERJLOTTL/vVyoBV1kXABe5mHrU3ekTd2IU6KytRenp6mogSN1goc5PvLAFEaZZI+v+zEiVFQNRINBBOgkAMAhrMxn2LQbr5NbISJespEc5ubkC+2Y+AxjaXDRng1vVj2/XsrERJv1iEYbuakvO6ElAk+OfPn1+CAxpCoC12JdrvvCSitLu7Oze4qHkh+sVSFI4EgdgE1EvXpElFMPXSe5bqxLbCv+tFFyUZWuJzeHg4bQQnJyeTMDaLSNM0Aq4KgZwIRBclxotyMj9lgUB+BKKLUn4IKBEEIJATAUQpJ2tQFghAgE3eaAMQgEBeBLLuKWnrCC3Y5QUDzzag3TlJ+RLIWpQ0f0SROl4w8G4DCBOi1ImAdlTU1AESBDwJaGsXiRzLmTyp+uWVbU/JtuRAlPyMTU6fBCRKBwcHnwd4lw2BbEXpz58/00mW2dCiIIMhYPt34cblZ9JsRUmbvenXjPVH+TWaoZRIy0lw4/KzZraipMW5ajD1p3Tkh48SlU4ANy4/C2YrSoq8aVtXEgRCEsCNC0m3W97ZipJ+wbQ9LgkCoQngxoUm3C7/LEXJIm/aBF+T5kgQCE1AP4J6iAApPYEsRckibzSU9A1kLCUwN44fwfQWz1KULPKmcSXmkqRvJGMpgblx2nCQlI5AlqKkyJtmc6uR0KVO1zjGeGX1zpmGktbyWYqSHkOtXpJESVvnkiAQi4A9UQc3Lhbx+etkKUrqJSnypn2TeaLEvNE4EpYAblxYvutyz06ULPKGGK0zHZ+HJIAbF5Lu6ryzEyU9PEANgpncqw3Hp2EJWDvEjQvLeVHu2YmSRd7UY5L7xmNuFpmNYzEI6DFL+oEkGheD9uc1shMlW/OmIuoBgTs7O5+l5R0EIhPAjYsMvKry26Nbs7htzZs242JKQPxGwRU/CZgbd3V19XmQd0EJZNdTUuRN3WYlRCmo7cm8IQHcuIagnL6WlSjNRt4kSkxkc7I02fQisLm5SVvsRbD5yVmJknWVLfJ2e3vLTgHNbck3AxKwtokbFxDy/7POSpQs8vbx8RG+5lwBAi0JaEIv0biW0Dp8PStRqkfeOtSFUyAQnIDcOJY+hcWclSjVI2+qtuaHqNtMgkAuBHDjwlsiK1FS17i+26TmKW1vb4enwBUg0IKAuXHa94vkTyAbUbLIW30GN1MC/A1Ojj4Etra2mNjrg3Iul2xEybrFFnlTSRGlOXtxIBMC1l41DkryJZCNKKmHJPetHnlDlHyNTW6+BHDjfHlabtmI0qLIm4yuzd5IEMiVgNw4xj19rZONKM1G3nyrSW4QCEPAHnKBG+fHNxtRmo28+VWRnCAQlgBunC/fLERpUeRN1dT40vv7u2+NyQ0CAQhoUiVunA/YLETJIhn1yJuqp3lK8tlJEMidgLlx6jWR+hHIQpQWRd5ULaJv/YzL2XEJWLBGP7Kk7gSyECUz5mw1EKVZIvyfOwHtlIob189KWYiSnvNmu03Wq4Mo1WnwvgQCuHH9rZSFKC2LvCFK/Q1MDvEJWM8fN64b++SitCzy1q06nAWBPAhoexOCNN1skVyUlkXeulWHsyCQBwHcuO52SC5KyyJv3avEmRDIgwBuXDc7JBclmw27qPiap8SDAxaR4VgpBOTG6Qk9pOYEkouSIm9a97YoMdC9iArHSiKg3VMVyLHHhpVU9lRlTS5KyyJvAoIopWoWXNeTgJ6AonZONK4Z1aSitC7yhig1MyLfyp+A3DgJE2k9gaSULPK27BeEtW/rDcg3yiCAG9fcTklFaV3kTbsE1HeibF4tvgmB/AiYGze78Dy/kqYtUVJRWhV5S4uFq0MgDAGiceu5JhUlRd2WRd7WF51vQKA8Arhx622WVJRWRd5UdPWk2KN7vRH5RlkErq+vJ4PeuHGL7ZZMlDRWJFHSuNKyRPRtGRmOl05Ak4KZVLnYislEaV3kTcVFlBYbjaPlE8CNW27DZKK0LvKmIiNKyw3HJ+UTMDfu+fm5/Mo41iCZKDWJvGmeknbyI0FgqAT29/eZVDlj3GSi1CTyJhePX5EZi/HvoAiYG3d2djaoevWpTDJRWhd561MpzoVASQRubm4mvSV+gP9ZLYkoNYm8ldSoKCsE+hLAjfskmESUmkTeVMS7u7tKG2WRIDB0ArhxnxZOIkoWedMuAauSom9s8raKEJ8NiQBu3D9rJhElbXjVZBuHPlMCHh8fJ9dg1uyQbtvh1wU3rqqSiJIib9pxcl3qI0rKW8LHLgPrKPN5TgTe3t4m7VZtf6wpiShJLJqMFfWZp2RPkxirYal3uQTG7sZFF6U2kTe5YKvWxq1qdjpPi3n1yyNxayKCq/LjMwjEJDBmNy66KGmMRz2lZbtNehleInRwcFDd3t5W7+/vk2syD8SLLvmEJjBmNy66KDWNvPU1usat1A22JCFU2JUEgVIImBv39PRUSpFdyhldlJpG3lS7Pu5bXYTMZXQhRiYQiEhAvX215TGl6LU9OjpqFHmTEboOdJsI2TwouW3b29tjsit1HQiBMbpx0UVJqt900LnrlACJUP3XReNKEjgSBEokoPar9jwWNy6qKFkPpmlEraso3d/ffxE++ebKS786JAiUSGBMblxUUWobeZOQsMykxFuIMnsTGJMbF1WU2kbe1G3VZnAkCECgmkxvGYMbF1WU2kTeaIQQgMA8gcPDwy/jpfPfKP9IVFFqE3krHy01gIA/gTG4cVFFqU3kTebU+jVW+fs3bHIsm8DQo3HRRKlt5E3NRmF85heVfQNR+jAEhuzGRROltpE3mbLrlIAwzYBcIZAPAVvPOcT5d9FEqW3kTeZHlPK5CShJfgSG6sZFEyVF3to+phhRyu9GoER5ERiiGxdNlLpE3rQcRXsikSAAgcUEhujGRROltpG3xSbgKAQgMEtAT/3R/aVdNYaQooiSRd60Jo0EAQj4E5AnImGynTH8rxAvxyiiZKv22+42KTHTiwQBCKwmMCQ3LoooWfeyrYor3Lm1tbXaGnwKAQhMCNh9VrobF0WUukTeRJnoG3cbBNoRGIIbF0WUukTeEKV2jZFvQ0AEhuDGRRGlrpE3ekrcaBBoT6B0Ny64KPWJvGlMaWdnp71VOAMCIydQshsXXJS6rHkbeXui+hDoTcDcuJOTk955xc4guChZV7Jt5C02CK4HgaERsHvv4eGhqKoFF6WukbeiKFJYCGRKQA9lLW1SZXBR6hp5k4010M2DAzJt7RSrCAI2pluSGxdclLpG3kyU9vf3izA+hYRArgRs26BS3LigomQq3XXNG1MCcm3mlKs0AiW5cUFFySJv2mu7S0KUulDjHAjME7AOQgluXFBRstH/rpE31r7NNy6OQKArgVLcuKCi1Pc5b1J3zbcgQQACPgRKcOOCipIib+wc6dOYyAUCHgTMjcv5vgwqSn0ibx4GIA8IQGCegLlxXQNQ8zn6HgkmSqbIfSquPbpLGJjzNQm5QSA8gePj42wnVQYTJdttsmvkTWZh8mT4xskVxknAOg05unHBRKlv5M1EicmT47xpqHV4Arm6ccFE6ezsbNI97IOWeUp96HEuBNYTMDdOPadcUjBR8oi8aZ7S9vZ2LqwoBwQGRyBHNy6YKHlE3l5fX6u2T0AZXKuhQhAITEDBKN2vfYJSnkUMIkq2wVQulfQERl4QGCIBc+O6rr7wZBJElDwib56VJC8IQGA1AXPjJE6pUxBR8oi8Cczt7W11cXGRmhHXh8AoCJgbp6hcyhRElDwib4LCPKWUTYNrj5GA5i1pfCmlGxdElA4PD13WvDElYIy3BXVOSUBiJFFK6cYFESVV6urqqjdbRKk3QjKAQGsCqd04d1HyjLxpntLu7m5rqJwAAQj0I2BuXIpJle6i5Bl5e3x8rFIPuvUzLWdDoEwCKd04d1HyiryVaUpKDYHhEEjlxrmLklfkbTimpSYQKJdACjfOXZQUefPaA+np6WmSl/Jr89L8JhIEINCfgLlx2kY3VnIXJa/ImwAo+qb8tLi3ycv2H1ZvjQQBCPgQ0PPidB/GGt91FSXPyJtwSpQODg5akRU8RKkVMr4MgbUE5Kno3ooRjXMVJc/Imyh1maeEKK1tX3wBAq0JxHTjXEXJIm+ta7zkBM1T2tvbW/Lp4sOI0mIuHIVAXwKx3DhXUfKOvMmHbTszHFHq2/Q4HwLLCZgbF/J5jK6ipPEfFTplQpRS0ufaQydgbpwCT6GSqyhJENr2bLwrhih5EyU/CHwlENqNcxMl78ibMGgrXA2et0mIUhtafBcC3QiYGxciGucmSproKEHo85y3WTwa6N7Z2Zk9vPJ/RGklHj6EgAuBkG6cmyh5R95EjikBLu2HTCAQhIAWzKsToHvfM7mJkiJvGxsbnmVDlFxpkhkE/Amcnp5OhMkzGucmSiEib/SU/BsROULAk0AIN26pKF1eXrZa4qFuHC8Y0AbG2wa8FsIvFSV7DpQGsNclqaWmAlxfX/OCAW1gpG3AazrQQlHSPAQNYsl9ks9IggAEINCHgKb2KJq+tbU10RW91wRM6cvseNRCUbJZ2bbAVj0hEgQgAIE+BGwny3oe6vjMTvuZEyUJkL5oSWMEsfZRsWvyFwIQGB4B6Yj0pJ4WCdXXb1TVRIAU3lcGOkFdrP39/Xo+vIcABCDQmsAiUdLY9exTsOdESbs3ala2lnjor61zeXt7a10IToAABCBgBEyU5IlpTEm9Jk0lml2q8kWUJDx1180y08maIkCCAAQg0JWAiVL9/JeXl4k41de4fhEldaMUdZtNOi5hYsB7lgz/QwACTQksEiWdK++sHuWfipKUSmNIOrHuqtlxuXH6bLar1bRAfA8CEBg3gWWipGkCdU9sKkrjxkXtIQCBkATkZWlytTwuuWyalC2vTNOPtOV13QtDlEJagrwhAIEJAQXOJEISI3ld9lq01RGiRKPpTUDdcr3qv3a9MyWD0RJAlEZrer+Kv76+TrrlfjmS05gJIEpjtr5T3dUVb/vQUKdLk80ACSBKAzRq7Cppdbg9lXh2cWXssnC98gkgSuXbMHkNFEE5Pz+frgLf3d1NXiYKUC4BRKlc22VTcoV56xt86X+5dCQIdCGAKHWhxjlTAoq4SYTqSQu4NRGXBIEuBL62pi45cM6oCWj+yawo6X9F5EgQ6EIAUepCjXOmBDQ/6cePH1/+D/lI5+mFeDNYAojSYE0bp2KKummgW1E3CZRcNyZRxmE/1KsgSkO1bMR6aemABrqbPGQiYrG4VKEEEKVCDUexITBUAv8DYqzfuWuFn8cAAAAASUVORK5CYII=)"
      ]
    },
    {
      "cell_type": "code",
      "metadata": {
        "id": "BdJd57NMpqdd"
      },
      "source": [
        "def areaoftrapezium():\n",
        "  a = float(input(\"enter the lenght first base: \"))\n",
        "  b = float(input(\"eneter the lenght of second base: \"))\n",
        "  h = float(input(\"eneter the lenght of hieght: \"))\n",
        "  Area = ((a+b/2)*h)\n",
        "  print(\"Area of the trapezium is\" , Area)"
      ],
      "execution_count": null,
      "outputs": []
    },
    {
      "cell_type": "code",
      "metadata": {
        "id": "iyT33Zv0qod0",
        "colab": {
          "base_uri": "https://localhost:8080/",
          "height": 84
        },
        "outputId": "6a14fa0f-e21a-42d0-fe9d-db738ceed6dc"
      },
      "source": [
        "areaoftrapezium()"
      ],
      "execution_count": null,
      "outputs": [
        {
          "output_type": "stream",
          "text": [
            "enter the lenght first base: 5\n",
            "eneter the lenght of second base: 22\n",
            "eneter the lenght of hieght: 2\n",
            "Area of the trapezium is 32.0\n"
          ],
          "name": "stdout"
        }
      ]
    },
    {
      "cell_type": "code",
      "metadata": {
        "id": "sVrJtTvXAWvw",
        "colab": {
          "base_uri": "https://localhost:8080/",
          "height": 84
        },
        "outputId": "1c909e07-1f2e-43a9-8185-b8b5598e2e12"
      },
      "source": [
        "for x in range(1,8,2):\n",
        " print(x)"
      ],
      "execution_count": null,
      "outputs": [
        {
          "output_type": "stream",
          "text": [
            "1\n",
            "3\n",
            "5\n",
            "7\n"
          ],
          "name": "stdout"
        }
      ]
    },
    {
      "cell_type": "code",
      "metadata": {
        "id": "fTMdJVd-C9wi"
      },
      "source": [
        ""
      ],
      "execution_count": null,
      "outputs": []
    }
  ]
}